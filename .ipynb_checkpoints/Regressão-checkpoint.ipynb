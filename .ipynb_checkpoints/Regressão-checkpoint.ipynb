{
 "cells": [
  {
   "cell_type": "code",
   "execution_count": 1,
   "id": "f214c6cb",
   "metadata": {},
   "outputs": [],
   "source": [
    "import pandas as pd\n",
    "import seaborn as sns\n",
    "from sklearn.linear_model import LinearRegression\n",
    "from sklearn.model_selection import train_test_split\n",
    "import matplotlib.pyplot as plt\n",
    "import numpy as np\n",
    "import statsmodels.api as sm"
   ]
  },
  {
   "cell_type": "code",
   "execution_count": 2,
   "id": "65590f72",
   "metadata": {},
   "outputs": [],
   "source": [
    "df = pd.read_csv('Casas_Guaruja.csv', sep=';')"
   ]
  },
  {
   "cell_type": "code",
   "execution_count": 3,
   "id": "b3f1176e",
   "metadata": {},
   "outputs": [
    {
     "data": {
      "text/html": [
       "<div>\n",
       "<style scoped>\n",
       "    .dataframe tbody tr th:only-of-type {\n",
       "        vertical-align: middle;\n",
       "    }\n",
       "\n",
       "    .dataframe tbody tr th {\n",
       "        vertical-align: top;\n",
       "    }\n",
       "\n",
       "    .dataframe thead th {\n",
       "        text-align: right;\n",
       "    }\n",
       "</style>\n",
       "<table border=\"1\" class=\"dataframe\">\n",
       "  <thead>\n",
       "    <tr style=\"text-align: right;\">\n",
       "      <th></th>\n",
       "      <th>value</th>\n",
       "      <th>areas</th>\n",
       "      <th>bedrooms</th>\n",
       "      <th>spaces</th>\n",
       "      <th>bathrooms</th>\n",
       "    </tr>\n",
       "  </thead>\n",
       "  <tbody>\n",
       "    <tr>\n",
       "      <th>0</th>\n",
       "      <td>134990.0</td>\n",
       "      <td>32.0</td>\n",
       "      <td>1.0</td>\n",
       "      <td>0.0</td>\n",
       "      <td>1.0</td>\n",
       "    </tr>\n",
       "    <tr>\n",
       "      <th>1</th>\n",
       "      <td>222000.0</td>\n",
       "      <td>46.0</td>\n",
       "      <td>2.0</td>\n",
       "      <td>1.0</td>\n",
       "      <td>1.0</td>\n",
       "    </tr>\n",
       "    <tr>\n",
       "      <th>2</th>\n",
       "      <td>975000.0</td>\n",
       "      <td>204.0</td>\n",
       "      <td>4.0</td>\n",
       "      <td>2.0</td>\n",
       "      <td>4.0</td>\n",
       "    </tr>\n",
       "    <tr>\n",
       "      <th>3</th>\n",
       "      <td>1400000.0</td>\n",
       "      <td>380.0</td>\n",
       "      <td>4.0</td>\n",
       "      <td>4.0</td>\n",
       "      <td>5.0</td>\n",
       "    </tr>\n",
       "    <tr>\n",
       "      <th>4</th>\n",
       "      <td>1300000.0</td>\n",
       "      <td>390.0</td>\n",
       "      <td>5.0</td>\n",
       "      <td>4.0</td>\n",
       "      <td>5.0</td>\n",
       "    </tr>\n",
       "    <tr>\n",
       "      <th>...</th>\n",
       "      <td>...</td>\n",
       "      <td>...</td>\n",
       "      <td>...</td>\n",
       "      <td>...</td>\n",
       "      <td>...</td>\n",
       "    </tr>\n",
       "    <tr>\n",
       "      <th>1582</th>\n",
       "      <td>4500000.0</td>\n",
       "      <td>600.0</td>\n",
       "      <td>4.0</td>\n",
       "      <td>6.0</td>\n",
       "      <td>6.0</td>\n",
       "    </tr>\n",
       "    <tr>\n",
       "      <th>1583</th>\n",
       "      <td>950000.0</td>\n",
       "      <td>306.0</td>\n",
       "      <td>3.0</td>\n",
       "      <td>3.0</td>\n",
       "      <td>4.0</td>\n",
       "    </tr>\n",
       "    <tr>\n",
       "      <th>1584</th>\n",
       "      <td>6800000.0</td>\n",
       "      <td>580.0</td>\n",
       "      <td>6.0</td>\n",
       "      <td>6.0</td>\n",
       "      <td>7.0</td>\n",
       "    </tr>\n",
       "    <tr>\n",
       "      <th>1585</th>\n",
       "      <td>900000.0</td>\n",
       "      <td>409.0</td>\n",
       "      <td>8.0</td>\n",
       "      <td>2.0</td>\n",
       "      <td>5.0</td>\n",
       "    </tr>\n",
       "    <tr>\n",
       "      <th>1586</th>\n",
       "      <td>5000000.0</td>\n",
       "      <td>1100.0</td>\n",
       "      <td>6.0</td>\n",
       "      <td>4.0</td>\n",
       "      <td>8.0</td>\n",
       "    </tr>\n",
       "  </tbody>\n",
       "</table>\n",
       "<p>1587 rows × 5 columns</p>\n",
       "</div>"
      ],
      "text/plain": [
       "          value   areas  bedrooms  spaces  bathrooms\n",
       "0      134990.0    32.0       1.0     0.0        1.0\n",
       "1      222000.0    46.0       2.0     1.0        1.0\n",
       "2      975000.0   204.0       4.0     2.0        4.0\n",
       "3     1400000.0   380.0       4.0     4.0        5.0\n",
       "4     1300000.0   390.0       5.0     4.0        5.0\n",
       "...         ...     ...       ...     ...        ...\n",
       "1582  4500000.0   600.0       4.0     6.0        6.0\n",
       "1583   950000.0   306.0       3.0     3.0        4.0\n",
       "1584  6800000.0   580.0       6.0     6.0        7.0\n",
       "1585   900000.0   409.0       8.0     2.0        5.0\n",
       "1586  5000000.0  1100.0       6.0     4.0        8.0\n",
       "\n",
       "[1587 rows x 5 columns]"
      ]
     },
     "execution_count": 3,
     "metadata": {},
     "output_type": "execute_result"
    }
   ],
   "source": [
    "df"
   ]
  },
  {
   "cell_type": "code",
   "execution_count": 4,
   "id": "0afc0ab2",
   "metadata": {},
   "outputs": [
    {
     "data": {
      "text/plain": [
       "<seaborn.axisgrid.FacetGrid at 0x2079e8d8f10>"
      ]
     },
     "execution_count": 4,
     "metadata": {},
     "output_type": "execute_result"
    },
    {
     "data": {
      "image/png": "[encoded data removed]",
      "text/plain": [
       "<Figure size 720x360 with 1 Axes>"
      ]
     },
     "metadata": {
      "needs_background": "light"
     },
     "output_type": "display_data"
    }
   ],
   "source": [
    "sns.displot(data=df['value'], aspect=2, kde=True)"
   ]
  },
  {
   "cell_type": "code",
   "execution_count": 5,
   "id": "549b25d8",
   "metadata": {},
   "outputs": [
    {
     "data": {
      "text/plain": [
       "6583999.999999992"
      ]
     },
     "execution_count": 5,
     "metadata": {},
     "output_type": "execute_result"
    }
   ],
   "source": [
    "df['value'].quantile(0.98)"
   ]
  },
  {
   "cell_type": "code",
   "execution_count": 6,
   "id": "58664df2",
   "metadata": {},
   "outputs": [],
   "source": [
    "casas_baratas = df.loc[df['value']<6584000]"
   ]
  },
  {
   "cell_type": "code",
   "execution_count": 7,
   "id": "cfd843d4",
   "metadata": {
    "scrolled": true
   },
   "outputs": [
    {
     "data": {
      "text/html": [
       "<div>\n",
       "<style scoped>\n",
       "    .dataframe tbody tr th:only-of-type {\n",
       "        vertical-align: middle;\n",
       "    }\n",
       "\n",
       "    .dataframe tbody tr th {\n",
       "        vertical-align: top;\n",
       "    }\n",
       "\n",
       "    .dataframe thead th {\n",
       "        text-align: right;\n",
       "    }\n",
       "</style>\n",
       "<table border=\"1\" class=\"dataframe\">\n",
       "  <thead>\n",
       "    <tr style=\"text-align: right;\">\n",
       "      <th></th>\n",
       "      <th>value</th>\n",
       "      <th>areas</th>\n",
       "      <th>bedrooms</th>\n",
       "      <th>spaces</th>\n",
       "      <th>bathrooms</th>\n",
       "    </tr>\n",
       "  </thead>\n",
       "  <tbody>\n",
       "    <tr>\n",
       "      <th>count</th>\n",
       "      <td>1.555000e+03</td>\n",
       "      <td>1555.000000</td>\n",
       "      <td>1555.000000</td>\n",
       "      <td>1497.000000</td>\n",
       "      <td>1554.000000</td>\n",
       "    </tr>\n",
       "    <tr>\n",
       "      <th>mean</th>\n",
       "      <td>1.273813e+06</td>\n",
       "      <td>310.381994</td>\n",
       "      <td>3.848875</td>\n",
       "      <td>3.682699</td>\n",
       "      <td>4.007722</td>\n",
       "    </tr>\n",
       "    <tr>\n",
       "      <th>std</th>\n",
       "      <td>1.059676e+06</td>\n",
       "      <td>195.213082</td>\n",
       "      <td>1.279349</td>\n",
       "      <td>2.040742</td>\n",
       "      <td>1.970142</td>\n",
       "    </tr>\n",
       "    <tr>\n",
       "      <th>min</th>\n",
       "      <td>6.500000e+04</td>\n",
       "      <td>32.000000</td>\n",
       "      <td>1.000000</td>\n",
       "      <td>0.000000</td>\n",
       "      <td>1.000000</td>\n",
       "    </tr>\n",
       "    <tr>\n",
       "      <th>25%</th>\n",
       "      <td>5.500000e+05</td>\n",
       "      <td>166.500000</td>\n",
       "      <td>3.000000</td>\n",
       "      <td>2.000000</td>\n",
       "      <td>2.000000</td>\n",
       "    </tr>\n",
       "    <tr>\n",
       "      <th>50%</th>\n",
       "      <td>9.500010e+05</td>\n",
       "      <td>290.000000</td>\n",
       "      <td>4.000000</td>\n",
       "      <td>4.000000</td>\n",
       "      <td>4.000000</td>\n",
       "    </tr>\n",
       "    <tr>\n",
       "      <th>75%</th>\n",
       "      <td>1.600000e+06</td>\n",
       "      <td>400.000000</td>\n",
       "      <td>5.000000</td>\n",
       "      <td>4.000000</td>\n",
       "      <td>5.000000</td>\n",
       "    </tr>\n",
       "    <tr>\n",
       "      <th>max</th>\n",
       "      <td>6.500000e+06</td>\n",
       "      <td>1833.000000</td>\n",
       "      <td>10.000000</td>\n",
       "      <td>20.000000</td>\n",
       "      <td>13.000000</td>\n",
       "    </tr>\n",
       "  </tbody>\n",
       "</table>\n",
       "</div>"
      ],
      "text/plain": [
       "              value        areas     bedrooms       spaces    bathrooms\n",
       "count  1.555000e+03  1555.000000  1555.000000  1497.000000  1554.000000\n",
       "mean   1.273813e+06   310.381994     3.848875     3.682699     4.007722\n",
       "std    1.059676e+06   195.213082     1.279349     2.040742     1.970142\n",
       "min    6.500000e+04    32.000000     1.000000     0.000000     1.000000\n",
       "25%    5.500000e+05   166.500000     3.000000     2.000000     2.000000\n",
       "50%    9.500010e+05   290.000000     4.000000     4.000000     4.000000\n",
       "75%    1.600000e+06   400.000000     5.000000     4.000000     5.000000\n",
       "max    6.500000e+06  1833.000000    10.000000    20.000000    13.000000"
      ]
     },
     "execution_count": 7,
     "metadata": {},
     "output_type": "execute_result"
    }
   ],
   "source": [
    "df.describe()\n",
    "casas_baratas.describe()"
   ]
  },
  {
   "cell_type": "code",
   "execution_count": 8,
   "id": "373d5342",
   "metadata": {},
   "outputs": [
    {
     "data": {
      "text/plain": [
       "<seaborn.axisgrid.FacetGrid at 0x207c5a31730>"
      ]
     },
     "execution_count": 8,
     "metadata": {},
     "output_type": "execute_result"
    },
    {
     "data": {
      "image/png": "[encoded data removed]",
      "text/plain": [
       "<Figure size 720x360 with 1 Axes>"
      ]
     },
     "metadata": {
      "needs_background": "light"
     },
     "output_type": "display_data"
    }
   ],
   "source": [
    "sns.displot(data=casas_baratas['value'], aspect=2, kde=True, bins=40)"
   ]
  },
  {
   "cell_type": "code",
   "execution_count": 10,
   "id": "23f01151",
   "metadata": {},
   "outputs": [
    {
     "data": {
      "text/plain": [
       "<AxesSubplot:xlabel='value'>"
      ]
     },
     "execution_count": 10,
     "metadata": {},
     "output_type": "execute_result"
    },
    {
     "data": {
      "image/png": "[encoded data removed]",
      "text/plain": [
       "<Figure size 1440x595.44 with 1 Axes>"
      ]
     },
     "metadata": {},
     "output_type": "display_data"
    }
   ],
   "source": [
    "\n",
    "\n",
    "sns.set(rc={'figure.figsize':(20,8.27)})\n",
    "ax = sns.boxplot(data=casas_baratas, x='value')\n",
    "ax"
   ]
  },
  {
   "cell_type": "code",
   "execution_count": 19,
   "id": "7e598227",
   "metadata": {},
   "outputs": [
    {
     "data": {
      "text/plain": [
       "<AxesSubplot:>"
      ]
     },
     "execution_count": 19,
     "metadata": {},
     "output_type": "execute_result"
    },
    {
     "data": {
      "image/png": "[encoded data removed]",
      "text/plain": [
       "<Figure size 1440x595.44 with 1 Axes>"
      ]
     },
     "metadata": {},
     "output_type": "display_data"
    }
   ],
   "source": [
    "\n",
    "sns.heatmap(casas_baratas.isnull(),cbar=False,cmap='inferno')"
   ]
  },
  {
   "cell_type": "code",
   "execution_count": 24,
   "id": "33358990",
   "metadata": {},
   "outputs": [],
   "source": [
    "casas_baratas_sem_na= casas_baratas.fillna(method='ffill')"
   ]
  },
  {
   "cell_type": "markdown",
   "id": "4fa4cbc5",
   "metadata": {},
   "source": [
    "# ajustando os dados"
   ]
  },
  {
   "cell_type": "markdown",
   "id": "f55ba3fc",
   "metadata": {},
   "source": [
    "## Por se tratar de uma curva com assimetria a direita, aplicaremos a função logarítmica para que nossos dados se aproxime de uma curva normal"
   ]
  },
  {
   "cell_type": "code",
   "execution_count": 37,
   "id": "32bb954c",
   "metadata": {},
   "outputs": [],
   "source": [
    "casas_baratas_sem_na['value'] = np.log(casas_baratas_sem_na['value'])"
   ]
  },
  {
   "cell_type": "code",
   "execution_count": 15,
   "id": "3446b2e7",
   "metadata": {},
   "outputs": [
    {
     "data": {
      "text/plain": [
       "<seaborn.axisgrid.FacetGrid at 0x190c1f0d8e0>"
      ]
     },
     "execution_count": 15,
     "metadata": {},
     "output_type": "execute_result"
    },
    {
     "data": {
      "image/png": "[encoded data removed]",
      "text/plain": [
       "<Figure size 720x360 with 1 Axes>"
      ]
     },
     "metadata": {},
     "output_type": "display_data"
    }
   ],
   "source": [
    "sns.displot(data=casas_baratas_sem_na['value'], aspect=2, kde=True, bins=40)"
   ]
  },
  {
   "cell_type": "code",
   "execution_count": 25,
   "id": "debe72d4",
   "metadata": {},
   "outputs": [],
   "source": [
    "casas_baratas_sem_na[['areas', 'bedrooms', 'spaces', 'bathrooms']] = np.log(casas_baratas_sem_na[['areas', 'bedrooms', 'spaces', 'bathrooms']]+1)"
   ]
  },
  {
   "cell_type": "code",
   "execution_count": 26,
   "id": "c05b1b8e",
   "metadata": {},
   "outputs": [
    {
     "data": {
      "text/html": [
       "<div>\n",
       "<style scoped>\n",
       "    .dataframe tbody tr th:only-of-type {\n",
       "        vertical-align: middle;\n",
       "    }\n",
       "\n",
       "    .dataframe tbody tr th {\n",
       "        vertical-align: top;\n",
       "    }\n",
       "\n",
       "    .dataframe thead th {\n",
       "        text-align: right;\n",
       "    }\n",
       "</style>\n",
       "<table border=\"1\" class=\"dataframe\">\n",
       "  <thead>\n",
       "    <tr style=\"text-align: right;\">\n",
       "      <th></th>\n",
       "      <th>value</th>\n",
       "      <th>areas</th>\n",
       "      <th>bedrooms</th>\n",
       "      <th>spaces</th>\n",
       "      <th>bathrooms</th>\n",
       "    </tr>\n",
       "  </thead>\n",
       "  <tbody>\n",
       "    <tr>\n",
       "      <th>count</th>\n",
       "      <td>1.555000e+03</td>\n",
       "      <td>1555.000000</td>\n",
       "      <td>1555.000000</td>\n",
       "      <td>1555.000000</td>\n",
       "      <td>1555.000000</td>\n",
       "    </tr>\n",
       "    <tr>\n",
       "      <th>mean</th>\n",
       "      <td>1.273813e+06</td>\n",
       "      <td>5.537227</td>\n",
       "      <td>1.543719</td>\n",
       "      <td>1.453767</td>\n",
       "      <td>1.528810</td>\n",
       "    </tr>\n",
       "    <tr>\n",
       "      <th>std</th>\n",
       "      <td>1.059676e+06</td>\n",
       "      <td>0.672671</td>\n",
       "      <td>0.267422</td>\n",
       "      <td>0.433444</td>\n",
       "      <td>0.416233</td>\n",
       "    </tr>\n",
       "    <tr>\n",
       "      <th>min</th>\n",
       "      <td>6.500000e+04</td>\n",
       "      <td>3.496508</td>\n",
       "      <td>0.693147</td>\n",
       "      <td>0.000000</td>\n",
       "      <td>0.693147</td>\n",
       "    </tr>\n",
       "    <tr>\n",
       "      <th>25%</th>\n",
       "      <td>5.500000e+05</td>\n",
       "      <td>5.120979</td>\n",
       "      <td>1.386294</td>\n",
       "      <td>1.098612</td>\n",
       "      <td>1.098612</td>\n",
       "    </tr>\n",
       "    <tr>\n",
       "      <th>50%</th>\n",
       "      <td>9.500010e+05</td>\n",
       "      <td>5.673323</td>\n",
       "      <td>1.609438</td>\n",
       "      <td>1.609438</td>\n",
       "      <td>1.609438</td>\n",
       "    </tr>\n",
       "    <tr>\n",
       "      <th>75%</th>\n",
       "      <td>1.600000e+06</td>\n",
       "      <td>5.993961</td>\n",
       "      <td>1.791759</td>\n",
       "      <td>1.609438</td>\n",
       "      <td>1.791759</td>\n",
       "    </tr>\n",
       "    <tr>\n",
       "      <th>max</th>\n",
       "      <td>6.500000e+06</td>\n",
       "      <td>7.514255</td>\n",
       "      <td>2.397895</td>\n",
       "      <td>3.044522</td>\n",
       "      <td>2.639057</td>\n",
       "    </tr>\n",
       "  </tbody>\n",
       "</table>\n",
       "</div>"
      ],
      "text/plain": [
       "              value        areas     bedrooms       spaces    bathrooms\n",
       "count  1.555000e+03  1555.000000  1555.000000  1555.000000  1555.000000\n",
       "mean   1.273813e+06     5.537227     1.543719     1.453767     1.528810\n",
       "std    1.059676e+06     0.672671     0.267422     0.433444     0.416233\n",
       "min    6.500000e+04     3.496508     0.693147     0.000000     0.693147\n",
       "25%    5.500000e+05     5.120979     1.386294     1.098612     1.098612\n",
       "50%    9.500010e+05     5.673323     1.609438     1.609438     1.609438\n",
       "75%    1.600000e+06     5.993961     1.791759     1.609438     1.791759\n",
       "max    6.500000e+06     7.514255     2.397895     3.044522     2.639057"
      ]
     },
     "execution_count": 26,
     "metadata": {},
     "output_type": "execute_result"
    }
   ],
   "source": [
    "casas_baratas_sem_na.describe()"
   ]
  },
  {
   "cell_type": "markdown",
   "id": "859cd180",
   "metadata": {},
   "source": [
    "# modelo"
   ]
  },
  {
   "cell_type": "code",
   "execution_count": 41,
   "id": "3039193f",
   "metadata": {},
   "outputs": [],
   "source": [
    "X_train, X_test, y_train, y_teste = train_test_split(casas_baratas_sem_na.drop(columns=['value']), casas_baratas_sem_na['value'])"
   ]
  },
  {
   "cell_type": "code",
   "execution_count": 42,
   "id": "dfbf6058",
   "metadata": {},
   "outputs": [
    {
     "data": {
      "text/plain": [
       "LinearRegression()"
      ]
     },
     "execution_count": 42,
     "metadata": {},
     "output_type": "execute_result"
    }
   ],
   "source": [
    "modelo = LinearRegression()\n",
    "modelo.fit(X_train, y_train)"
   ]
  },
  {
   "cell_type": "code",
   "execution_count": 43,
   "id": "b6c01bdf",
   "metadata": {},
   "outputs": [
    {
     "data": {
      "text/plain": [
       "0.6975647482769456"
      ]
     },
     "execution_count": 43,
     "metadata": {},
     "output_type": "execute_result"
    }
   ],
   "source": [
    "modelo.score(X_test, y_teste)"
   ]
  },
  {
   "cell_type": "markdown",
   "id": "2900b9d5",
   "metadata": {},
   "source": [
    "## 69%"
   ]
  },
  {
   "cell_type": "code",
   "execution_count": 44,
   "id": "ca1fbf42",
   "metadata": {},
   "outputs": [],
   "source": [
    "X = casas_baratas_sem_na.drop(columns=['value'])\n",
    "y = casas_baratas_sem_na['value']"
   ]
  },
  {
   "cell_type": "code",
   "execution_count": 45,
   "id": "9b6c32ba",
   "metadata": {},
   "outputs": [],
   "source": [
    "modelo_estatistico = sm.OLS(y, X)"
   ]
  },
  {
   "cell_type": "code",
   "execution_count": 46,
   "id": "8cca5350",
   "metadata": {},
   "outputs": [],
   "source": [
    "res = modelo_estatistico.fit()"
   ]
  },
  {
   "cell_type": "code",
   "execution_count": 47,
   "id": "d0cab4b0",
   "metadata": {},
   "outputs": [
    {
     "name": "stdout",
     "output_type": "stream",
     "text": [
      "                                 OLS Regression Results                                \n",
      "=======================================================================================\n",
      "Dep. Variable:                  value   R-squared (uncentered):                   0.994\n",
      "Model:                            OLS   Adj. R-squared (uncentered):              0.994\n",
      "Method:                 Least Squares   F-statistic:                          6.307e+04\n",
      "Date:                Thu, 29 Jul 2021   Prob (F-statistic):                        0.00\n",
      "Time:                        20:40:11   Log-Likelihood:                         -2322.5\n",
      "No. Observations:                1555   AIC:                                      4653.\n",
      "Df Residuals:                    1551   BIC:                                      4674.\n",
      "Df Model:                           4                                                  \n",
      "Covariance Type:            nonrobust                                                  \n",
      "==============================================================================\n",
      "                 coef    std err          t      P>|t|      [0.025      0.975]\n",
      "------------------------------------------------------------------------------\n",
      "areas          2.5257      0.045     56.748      0.000       2.438       2.613\n",
      "bedrooms       1.0432      0.161      6.461      0.000       0.727       1.360\n",
      "spaces        -0.8268      0.083     -9.941      0.000      -0.990      -0.664\n",
      "bathrooms     -0.4846      0.093     -5.227      0.000      -0.666      -0.303\n",
      "==============================================================================\n",
      "Omnibus:                       34.345   Durbin-Watson:                   1.827\n",
      "Prob(Omnibus):                  0.000   Jarque-Bera (JB):               56.479\n",
      "Skew:                          -0.184   Prob(JB):                     5.44e-13\n",
      "Kurtosis:                       3.858   Cond. No.                         38.1\n",
      "==============================================================================\n",
      "\n",
      "Notes:\n",
      "[1] R² is computed without centering (uncentered) since the model does not contain a constant.\n",
      "[2] Standard Errors assume that the covariance matrix of the errors is correctly specified.\n"
     ]
    }
   ],
   "source": [
    "print(res.summary())"
   ]
  },
  {
   "cell_type": "markdown",
   "id": "d2bad357",
   "metadata": {},
   "source": [
    "## retirando uma feature para ver como o modelo se comporta"
   ]
  },
  {
   "cell_type": "code",
   "execution_count": 48,
   "id": "02aadba6",
   "metadata": {},
   "outputs": [],
   "source": [
    "Xnovo = casas_baratas_sem_na.drop(columns=['value', 'spaces'])\n",
    "modelo_estatistico_sem_spaces = sm.OLS(y, Xnovo)\n",
    "res_novo = modelo_estatistico_sem_spaces.fit()"
   ]
  },
  {
   "cell_type": "code",
   "execution_count": 49,
   "id": "25fb7e2c",
   "metadata": {
    "scrolled": true
   },
   "outputs": [
    {
     "name": "stdout",
     "output_type": "stream",
     "text": [
      "                                 OLS Regression Results                                \n",
      "=======================================================================================\n",
      "Dep. Variable:                  value   R-squared (uncentered):                   0.993\n",
      "Model:                            OLS   Adj. R-squared (uncentered):              0.993\n",
      "Method:                 Least Squares   F-statistic:                          7.907e+04\n",
      "Date:                Thu, 29 Jul 2021   Prob (F-statistic):                        0.00\n",
      "Time:                        20:40:32   Log-Likelihood:                         -2370.5\n",
      "No. Observations:                1555   AIC:                                      4747.\n",
      "Df Residuals:                    1552   BIC:                                      4763.\n",
      "Df Model:                           3                                                  \n",
      "Covariance Type:            nonrobust                                                  \n",
      "==============================================================================\n",
      "                 coef    std err          t      P>|t|      [0.025      0.975]\n",
      "------------------------------------------------------------------------------\n",
      "areas          2.4089      0.044     54.426      0.000       2.322       2.496\n",
      "bedrooms       0.8163      0.165      4.953      0.000       0.493       1.140\n",
      "bathrooms     -0.6250      0.094     -6.616      0.000      -0.810      -0.440\n",
      "==============================================================================\n",
      "Omnibus:                       12.700   Durbin-Watson:                   1.774\n",
      "Prob(Omnibus):                  0.002   Jarque-Bera (JB):               17.490\n",
      "Skew:                          -0.075   Prob(JB):                     0.000159\n",
      "Kurtosis:                       3.498   Cond. No.                         36.7\n",
      "==============================================================================\n",
      "\n",
      "Notes:\n",
      "[1] R² is computed without centering (uncentered) since the model does not contain a constant.\n",
      "[2] Standard Errors assume that the covariance matrix of the errors is correctly specified.\n"
     ]
    }
   ],
   "source": [
    "print(res_novo.summary())"
   ]
  },
  {
   "cell_type": "code",
   "execution_count": 50,
   "id": "d73a3c34",
   "metadata": {},
   "outputs": [],
   "source": [
    "X_train_novo = X_train.drop(columns=['spaces'])\n",
    "X_test_novo = X_test.drop(columns=['spaces'])"
   ]
  },
  {
   "cell_type": "code",
   "execution_count": 83,
   "id": "0bed4f5f",
   "metadata": {},
   "outputs": [
    {
     "name": "stdout",
     "output_type": "stream",
     "text": [
      "0.6992953414440077\n"
     ]
    }
   ],
   "source": [
    "modelo_novo = LinearRegression()\n",
    "modelo_novo.fit(X_train_novo, y_train)\n",
    "modelo_novo.score(X_test_novo, y_teste)"
   ]
  },
  {
   "cell_type": "markdown",
   "id": "6f43bd41",
   "metadata": {},
   "source": [
    "## 69%"
   ]
  },
  {
   "cell_type": "markdown",
   "id": "afccaea3",
   "metadata": {},
   "source": [
    "### em andamento..."
   ]
  },
  {
   "cell_type": "code",
   "execution_count": null,
   "id": "dc8c0605",
   "metadata": {},
   "outputs": [],
   "source": []
  }
 ],
 "metadata": {
  "kernelspec": {
   "display_name": "Python 3 (ipykernel)",
   "language": "python",
   "name": "python3"
  },
  "language_info": {
   "codemirror_mode": {
    "name": "ipython",
    "version": 3
   },
   "file_extension": ".py",
   "mimetype": "text/x-python",
   "name": "python",
   "nbconvert_exporter": "python",
   "pygments_lexer": "ipython3",
   "version": "3.9.6"
  }
 },
 "nbformat": 4,
 "nbformat_minor": 5
}
